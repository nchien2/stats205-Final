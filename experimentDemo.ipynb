{
 "cells": [
  {
   "cell_type": "code",
   "execution_count": 8,
   "metadata": {},
   "outputs": [],
   "source": [
    "import numpy as np\n",
    "import matplotlib.pyplot as plt\n",
    "import pandas as pd\n",
    "from sklearn import svm, metrics\n",
    "from sklearn.neighbors import KNeighborsClassifier, DistanceMetric\n",
    "from sklearn.neural_network import MLPClassifier\n",
    "from sklearn.model_selection import train_test_split\n",
    "from preprocess import preprocess, load_dataset"
   ]
  },
  {
   "cell_type": "markdown",
   "metadata": {},
   "source": [
    "# Classification of cell types with RNA-seq data"
   ]
  },
  {
   "cell_type": "markdown",
   "metadata": {},
   "source": [
    "## Preparation"
   ]
  },
  {
   "cell_type": "code",
   "execution_count": 35,
   "metadata": {},
   "outputs": [],
   "source": [
    "# Load data and preprocess\n",
    "datadir = 'data/muraro'\n",
    "data = load_dataset(datadir, 'muraro')\n",
    "X, y = preprocess(data)\n",
    "num_labels = len(np.unique(y))\n",
    "num_features = X.shape[1]"
   ]
  },
  {
   "cell_type": "code",
   "execution_count": 36,
   "metadata": {},
   "outputs": [],
   "source": [
    "# Train/Test splitting\n",
    "X_train, X_test, y_train, y_test = train_test_split(X, y, test_size=0.15, shuffle=True)"
   ]
  },
  {
   "cell_type": "markdown",
   "metadata": {},
   "source": [
    "## Algorithms"
   ]
  },
  {
   "cell_type": "code",
   "execution_count": 37,
   "metadata": {},
   "outputs": [],
   "source": [
    "def evaluate_classifier(clf, X_train, X_test, y_train, y_test, average='macro'):\n",
    "    clf.fit(X_train, y_train)\n",
    "    prediction = clf.predict(X_test)\n",
    "    precision, recall, f1, support = metrics.precision_recall_fscore_support(y_test, prediction,\n",
    "                                                                         average=average,\n",
    "                                                                         zero_division='warn')\n",
    "    return precision, recall, f1"
   ]
  },
  {
   "cell_type": "code",
   "execution_count": 5,
   "metadata": {},
   "outputs": [],
   "source": [
    "eval_log = {}\n",
    "\n",
    "# SVM classifier with linear kernel\n",
    "clf = svm.SVC(kernel='linear')\n",
    "precision, recall, f1 = evaluate_classifier(clf, X_train, X_test, y_train, y_test, average='micro')\n",
    "eval_log['svm-linear'] = (precision, recall, f1)\n",
    "\n",
    "# SVM classifier with polynomial kernel\n",
    "clf = svm.SVC(kernel='poly', degree=3)\n",
    "precision, recall, f1 = evaluate_classifier(clf, X_train, X_test, y_train, y_test, average='micro')\n",
    "eval_log['svm-poly'] = (precision, recall, f1)\n",
    "\n",
    "# SVM classifier with RBF kernel\n",
    "clf = svm.SVC(kernel='rbf')\n",
    "precision, recall, f1 = evaluate_classifier(clf, X_train, X_test, y_train, y_test, average='micro')\n",
    "eval_log['svm-rbf'] = (precision, recall, f1)\n",
    "\n",
    "# SVM classifier with sigmoid kernel\n",
    "clf = svm.SVC(kernel='sigmoid')\n",
    "precision, recall, f1 = evaluate_classifier(clf, X_train, X_test, y_train, y_test, average='micro')\n",
    "eval_log['svm-sigmoid'] = (precision, recall, f1)"
   ]
  },
  {
   "cell_type": "code",
   "execution_count": 6,
   "metadata": {},
   "outputs": [],
   "source": [
    "# kNN classifier with Euclidean distance\n",
    "clf = KNeighborsClassifier(n_neighbors=num_labels, metric='euclidean')\n",
    "precision, recall, f1 = evaluate_classifier(clf, X_train, X_test, y_train, y_test, average='micro')\n",
    "eval_log['knn-euclidean'] = (precision, recall, f1)\n",
    "\n",
    "# kNN classifier with Manhattan distance\n",
    "clf = KNeighborsClassifier(n_neighbors=num_labels, metric='manhattan')\n",
    "precision, recall, f1 = evaluate_classifier(clf, X_train, X_test, y_train, y_test, average='micro')\n",
    "eval_log['knn-manhattan'] = (precision, recall, f1)"
   ]
  },
  {
   "cell_type": "code",
   "execution_count": 7,
   "metadata": {},
   "outputs": [],
   "source": [
    "# Multi-layer perceptron classifier\n",
    "clf = MLPClassifier()\n",
    "precision, recall, f1 = evaluate_classifier(clf, X_train, X_test, y_train, y_test, average='micro')\n",
    "eval_log['mlp'] = (precision, recall, f1)"
   ]
  },
  {
   "cell_type": "code",
   "execution_count": 8,
   "metadata": {},
   "outputs": [
    {
     "data": {
      "text/plain": [
       "{'svm-linear': (0.9874213836477987, 0.9874213836477987, 0.9874213836477987),\n",
       " 'svm-poly': (0.8522012578616353, 0.8522012578616353, 0.8522012578616353),\n",
       " 'svm-rbf': (0.9654088050314465, 0.9654088050314465, 0.9654088050314465),\n",
       " 'svm-sigmoid': (0.949685534591195, 0.949685534591195, 0.949685534591195),\n",
       " 'knn-euclidean': (0.9748427672955975, 0.9748427672955975, 0.9748427672955975),\n",
       " 'knn-manhattan': (0.9748427672955975, 0.9748427672955975, 0.9748427672955975),\n",
       " 'mlp': (0.9779874213836478, 0.9779874213836478, 0.9779874213836478)}"
      ]
     },
     "execution_count": 8,
     "metadata": {},
     "output_type": "execute_result"
    }
   ],
   "source": [
    "eval_log"
   ]
  },
  {
   "cell_type": "markdown",
   "metadata": {},
   "source": [
    "## Kernel-based kNN"
   ]
  },
  {
   "cell_type": "code",
   "execution_count": 78,
   "metadata": {},
   "outputs": [],
   "source": [
    "def rbf_kernel_dist(x, y, gamma):\n",
    "    return 1 - np.exp(- gamma * ((x - y) ** 2).sum())\n",
    "\n",
    "def poly_kernel_dist(x, y, gamma, r=0., d=3):\n",
    "    Kxx = (r + gamma * (x ** 2).sum()) ** d\n",
    "    Kyy = (r + gamma * (y ** 2).sum()) ** d\n",
    "    Kxy = (r + gamma * np.dot(x, y)) ** d\n",
    "    return Kxx + Kyy - 2 * Kxy\n",
    "\n",
    "def sigmoid_kernel_dist(x, y, gamma, r=0.):\n",
    "    Kxx = np.tanh(r + gamma * (x ** 2).sum())\n",
    "    Kyy = np.tanh(r + gamma * (y ** 2).sum())\n",
    "    Kxy = np.tanh(r + gamma * np.dot(x, y))\n",
    "    return Kxx + Kyy - 2 * Kxy"
   ]
  },
  {
   "cell_type": "code",
   "execution_count": 74,
   "metadata": {},
   "outputs": [
    {
     "name": "stdout",
     "output_type": "stream",
     "text": [
      "Classification report for classifier KNeighborsClassifier(metric=<function rbf_kernel_dist at 0x7fa591dff700>,\n",
      "                     metric_params={'gamma': 5.2879276611495956e-05},\n",
      "                     n_neighbors=9):\n",
      "              precision    recall  f1-score   support\n",
      "\n",
      "      acinar       1.00      0.35      0.52        37\n",
      "       alpha       0.97      0.97      0.97       118\n",
      "        beta       0.93      0.94      0.94        70\n",
      "       delta       1.00      0.96      0.98        26\n",
      "        duct       0.56      0.97      0.71        40\n",
      " endothelial       1.00      1.00      1.00         3\n",
      " mesenchymal       1.00      0.69      0.82        13\n",
      "          pp       1.00      0.73      0.84        11\n",
      "\n",
      "    accuracy                           0.87       318\n",
      "   macro avg       0.93      0.83      0.85       318\n",
      "weighted avg       0.92      0.87      0.87       318\n",
      "\n",
      "\n"
     ]
    }
   ],
   "source": [
    "clf = KNeighborsClassifier(n_neighbors=num_labels, metric=rbf_kernel_dist, \n",
    "                           metric_params={'gamma' : 1 / num_features})\n",
    "clf.fit(X_train, y_train)\n",
    "prediction = clf.predict(X_test)\n",
    "print(f\"Classification report for classifier {clf}:\\n\"\n",
    "      f\"{metrics.classification_report(y_test, prediction)}\\n\")"
   ]
  },
  {
   "cell_type": "code",
   "execution_count": 80,
   "metadata": {},
   "outputs": [
    {
     "name": "stdout",
     "output_type": "stream",
     "text": [
      "Classification report for classifier KNeighborsClassifier(metric=<function poly_kernel_dist at 0x7fa591fa4af0>,\n",
      "                     metric_params={'gamma': 5.2879276611495956e-05},\n",
      "                     n_neighbors=9):\n",
      "              precision    recall  f1-score   support\n",
      "\n",
      "      acinar       1.00      0.95      0.97        37\n",
      "       alpha       0.98      1.00      0.99       118\n",
      "        beta       0.93      0.96      0.94        70\n",
      "       delta       1.00      1.00      1.00        26\n",
      "        duct       0.87      0.97      0.92        40\n",
      " endothelial       1.00      0.67      0.80         3\n",
      " mesenchymal       1.00      0.77      0.87        13\n",
      "          pp       1.00      0.73      0.84        11\n",
      "\n",
      "    accuracy                           0.96       318\n",
      "   macro avg       0.97      0.88      0.92       318\n",
      "weighted avg       0.96      0.96      0.96       318\n",
      "\n",
      "\n"
     ]
    }
   ],
   "source": [
    "clf = KNeighborsClassifier(n_neighbors=num_labels, metric=poly_kernel_dist, \n",
    "                           metric_params={'gamma' : 1 / num_features})\n",
    "clf.fit(X_train, y_train)\n",
    "prediction = clf.predict(X_test)\n",
    "print(f\"Classification report for classifier {clf}:\\n\"\n",
    "      f\"{metrics.classification_report(y_test, prediction)}\\n\")"
   ]
  },
  {
   "cell_type": "code",
   "execution_count": 81,
   "metadata": {},
   "outputs": [
    {
     "name": "stdout",
     "output_type": "stream",
     "text": [
      "Classification report for classifier KNeighborsClassifier(metric=<function sigmoid_kernel_dist at 0x7fa5957eb670>,\n",
      "                     metric_params={'gamma': 5.2879276611495956e-05},\n",
      "                     n_neighbors=9):\n",
      "              precision    recall  f1-score   support\n",
      "\n",
      "      acinar       0.00      0.00      0.00        37\n",
      "       alpha       0.00      0.00      0.00       118\n",
      "        beta       0.21      0.11      0.15        70\n",
      "       delta       0.00      0.00      0.00        26\n",
      "        duct       0.12      0.75      0.21        40\n",
      " endothelial       0.00      0.00      0.00         3\n",
      " mesenchymal       1.00      0.08      0.14        13\n",
      "          pp       0.00      0.00      0.00        11\n",
      "\n",
      "    accuracy                           0.12       318\n",
      "   macro avg       0.17      0.12      0.06       318\n",
      "weighted avg       0.10      0.12      0.06       318\n",
      "\n",
      "\n"
     ]
    },
    {
     "name": "stderr",
     "output_type": "stream",
     "text": [
      "/home/rkitichotkul/miniconda3/envs/nlu/lib/python3.8/site-packages/sklearn/metrics/_classification.py:1221: UndefinedMetricWarning: Precision and F-score are ill-defined and being set to 0.0 in labels with no predicted samples. Use `zero_division` parameter to control this behavior.\n",
      "  _warn_prf(average, modifier, msg_start, len(result))\n"
     ]
    }
   ],
   "source": [
    "clf = KNeighborsClassifier(n_neighbors=num_labels, metric=sigmoid_kernel_dist, \n",
    "                           metric_params={'gamma' : 1 / num_features})\n",
    "clf.fit(X_train, y_train)\n",
    "prediction = clf.predict(X_test)\n",
    "print(f\"Classification report for classifier {clf}:\\n\"\n",
    "      f\"{metrics.classification_report(y_test, prediction)}\\n\")"
   ]
  }
 ],
 "metadata": {
  "kernelspec": {
   "display_name": "Python 3",
   "language": "python",
   "name": "python3"
  },
  "language_info": {
   "codemirror_mode": {
    "name": "ipython",
    "version": 3
   },
   "file_extension": ".py",
   "mimetype": "text/x-python",
   "name": "python",
   "nbconvert_exporter": "python",
   "pygments_lexer": "ipython3",
   "version": "3.8.5"
  }
 },
 "nbformat": 4,
 "nbformat_minor": 4
}
