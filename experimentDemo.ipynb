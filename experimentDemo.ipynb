{
 "cells": [
  {
   "cell_type": "code",
   "execution_count": null,
   "metadata": {},
   "outputs": [],
   "source": [
    "import numpy as np\n",
    "import matplotlib.pyplot as plt\n",
    "import pandas as pd\n",
    "from sklearn import svm, metrics\n",
    "from sklearn.neighbors import KNeighborsClassifier, DistanceMetric\n",
    "from sklearn.neural_network import MLPClassifier\n",
    "from sklearn.model_selection import train_test_split\n",
    "from preprocess import preprocess, load_dataset"
   ]
  },
  {
   "cell_type": "markdown",
   "metadata": {},
   "source": [
    "# Classification of cell types with RNA-seq data"
   ]
  },
  {
   "cell_type": "markdown",
   "metadata": {},
   "source": [
    "## Preparation"
   ]
  },
  {
   "cell_type": "code",
   "execution_count": null,
   "metadata": {
    "scrolled": false
   },
   "outputs": [],
   "source": [
    "#Load data and preprocess\n",
    "datadir = 'data/muraro'\n",
    "data = load_dataset(datadir, 'muraro')\n",
    "# datadir = 'data/muris'\n",
    "# data = load_dataset(datadir, 'tabula-muris')\n",
    "X, y = preprocess(data)\n",
    "num_labels = len(np.unique(y))\n",
    "num_features = X.shape[1]"
   ]
  },
  {
   "cell_type": "code",
   "execution_count": null,
   "metadata": {},
   "outputs": [],
   "source": [
    "X = X.astype(float)\n",
    "X = np.nan_to_num(X)"
   ]
  },
  {
   "cell_type": "code",
   "execution_count": null,
   "metadata": {},
   "outputs": [],
   "source": [
    "# Train/Test splitting\n",
    "X_train, X_test, y_train, y_test = train_test_split(X, y, test_size=0.15, shuffle=True)"
   ]
  },
  {
   "cell_type": "code",
   "execution_count": null,
   "metadata": {},
   "outputs": [],
   "source": [
    "# RUN THESE CELLS IF USING TABULA MURIS\n",
    "store_x_train = X_train # 38206\n",
    "store_y_train = y_train\n",
    "store_x_test = X_test # 6743\n",
    "store_y_test = y_test"
   ]
  },
  {
   "cell_type": "code",
   "execution_count": null,
   "metadata": {},
   "outputs": [],
   "source": [
    "# RUN THESE CELLS IF USING TABULA MURIS\n",
    "X_train = store_x_train[:7000]\n",
    "y_train = store_y_train[:7000]\n",
    "X_test = store_x_test[:1200]\n",
    "y_test = store_y_test[:1200]"
   ]
  },
  {
   "cell_type": "markdown",
   "metadata": {},
   "source": [
    "## Algorithms"
   ]
  },
  {
   "cell_type": "code",
   "execution_count": null,
   "metadata": {},
   "outputs": [],
   "source": [
    "def evaluate_classifier(clf, X_train, X_test, y_train, y_test, average='macro'):\n",
    "    clf.fit(X_train, y_train)\n",
    "    prediction = clf.predict(X_test)\n",
    "    precision, recall, f1, support = metrics.precision_recall_fscore_support(y_test, prediction,\n",
    "                                                                         average=average,\n",
    "                                                                         zero_division='warn')\n",
    "    print(f\"Classification report for classifier {clf}:\\n\"\n",
    "      f\"{metrics.classification_report(y_test, prediction)}\\n\")\n",
    "    return precision, recall, f1"
   ]
  },
  {
   "cell_type": "markdown",
   "metadata": {},
   "source": [
    "**Linear SVM**"
   ]
  },
  {
   "cell_type": "code",
   "execution_count": null,
   "metadata": {},
   "outputs": [],
   "source": [
    "from sklearn.model_selection import GridSearchCV\n",
    "denom = len(X_train[0]) * X_train.var()\n",
    "param_grid = {'C': [0.1, 1, 10, 100, 1000], \n",
    "              'gamma': [1,100000/denom, 10000/denom, 1000/denom, 100/denom, 10/denom, 1/denom],\n",
    "              'kernel': ['linear']}\n",
    "\n",
    "grid = GridSearchCV(svm.SVC(), param_grid, refit = True, verbose = 2)\n",
    "  \n",
    "# fitting the model for grid search\n",
    "grid.fit(X_train, y_train)"
   ]
  },
  {
   "cell_type": "code",
   "execution_count": null,
   "metadata": {},
   "outputs": [],
   "source": [
    "print(grid.best_params_)\n",
    "\n",
    "grid_predictions = grid.predict(X_test)\n",
    "  \n",
    "# print classification report\n",
    "print(metrics.classification_report(y_test, grid_predictions))"
   ]
  },
  {
   "cell_type": "markdown",
   "metadata": {},
   "source": [
    "**Polynomial SVM**"
   ]
  },
  {
   "cell_type": "code",
   "execution_count": null,
   "metadata": {
    "scrolled": true
   },
   "outputs": [],
   "source": [
    "param_grid = {'C': [0.1, 1, 10, 100, 1000], \n",
    "              'gamma': [2, 1,1000000/denom, 100000/denom, 10000/denom, 1000/denom, 100/denom, 10/denom, 1/denom],\n",
    "              'kernel': ['poly']}\n",
    "\n",
    "grid = GridSearchCV(svm.SVC(), param_grid, refit = True, verbose = 2)\n",
    "  \n",
    "# fitting the model for grid search\n",
    "grid.fit(X_train, y_train)"
   ]
  },
  {
   "cell_type": "code",
   "execution_count": null,
   "metadata": {},
   "outputs": [],
   "source": [
    "print(grid.best_params_)\n",
    "\n",
    "grid_predictions = grid.predict(X_test)\n",
    "  \n",
    "# print classification report\n",
    "print(metrics.classification_report(y_test, grid_predictions))"
   ]
  },
  {
   "cell_type": "markdown",
   "metadata": {},
   "source": [
    "**RBF SVM**"
   ]
  },
  {
   "cell_type": "code",
   "execution_count": null,
   "metadata": {},
   "outputs": [],
   "source": [
    "param_grid = {'C': [0.1, 1, 10, 100, 1000], \n",
    "              'gamma': [1,1000000/denom, 100000/denom, 10000/denom, 1000/denom, 100/denom, 10/denom, 1/denom],\n",
    "              'kernel': ['rbf']}\n",
    "\n",
    "grid = GridSearchCV(svm.SVC(), param_grid, refit = True, verbose = 2)\n",
    "  \n",
    "# fitting the model for grid search\n",
    "grid.fit(X_train, y_train)"
   ]
  },
  {
   "cell_type": "code",
   "execution_count": null,
   "metadata": {},
   "outputs": [],
   "source": [
    "print(grid.best_params_)\n",
    "\n",
    "grid_predictions = grid.predict(X_test)\n",
    "  \n",
    "# print classification report\n",
    "print(metrics.classification_report(y_test, grid_predictions))"
   ]
  },
  {
   "cell_type": "markdown",
   "metadata": {},
   "source": [
    "**Sigmoid SVM**"
   ]
  },
  {
   "cell_type": "code",
   "execution_count": null,
   "metadata": {},
   "outputs": [],
   "source": [
    "param_grid = {'C': [0.1, 1, 10, 100, 1000], \n",
    "              'gamma': [1,1000000/denom, 100000/denom, 10000/denom, 1000/denom, 100/denom, 10/denom, 1/denom],\n",
    "              'kernel': ['sigmoid']}\n",
    "\n",
    "grid = GridSearchCV(svm.SVC(), param_grid, refit = True, verbose = 2)\n",
    "  \n",
    "# fitting the model for grid search\n",
    "grid.fit(X_train, y_train)"
   ]
  },
  {
   "cell_type": "code",
   "execution_count": null,
   "metadata": {},
   "outputs": [],
   "source": [
    "print(grid.best_params_)\n",
    "\n",
    "grid_predictions = grid.predict(X_test)\n",
    "  \n",
    "# print classification report\n",
    "print(metrics.classification_report(y_test, grid_predictions))"
   ]
  },
  {
   "cell_type": "code",
   "execution_count": null,
   "metadata": {
    "scrolled": true
   },
   "outputs": [],
   "source": [
    "# Untuned classifiers\n",
    "eval_log = {}\n",
    "\n",
    "# SVM classifier with linear kernel\n",
    "print('Working... - linear')\n",
    "clf = svm.SVC(kernel='linear')\n",
    "precision, recall, f1 = evaluate_classifier(clf, X_train, X_test, y_train, y_test, average='micro')\n",
    "eval_log['svm-linear'] = (precision, recall, f1)\n",
    "\n",
    "# SVM classifier with polynomial kernel\n",
    "print('Working... - polynomial')\n",
    "clf = svm.SVC(kernel='poly', degree=3)\n",
    "precision, recall, f1 = evaluate_classifier(clf, X_train, X_test, y_train, y_test, average='micro')\n",
    "eval_log['svm-poly'] = (precision, recall, f1)\n",
    "\n",
    "# SVM classifier with RBF kernel\n",
    "print('Working... - rbf')\n",
    "clf = svm.SVC(kernel='rbf')\n",
    "precision, recall, f1 = evaluate_classifier(clf, X_train, X_test, y_train, y_test, average='micro')\n",
    "eval_log['svm-rbf'] = (precision, recall, f1)\n",
    "\n",
    "# SVM classifier with sigmoid kernel\n",
    "print('Working... - sigmoid')\n",
    "clf = svm.SVC(kernel='sigmoid')\n",
    "precision, recall, f1 = evaluate_classifier(clf, X_train, X_test, y_train, y_test, average='micro')\n",
    "eval_log['svm-sigmoid'] = (precision, recall, f1)"
   ]
  },
  {
   "cell_type": "code",
   "execution_count": null,
   "metadata": {},
   "outputs": [],
   "source": [
    "# kNN classifier with Euclidean distance\n",
    "print('Working... - euclidean knn')\n",
    "clf = KNeighborsClassifier(n_neighbors=num_labels, metric='euclidean')\n",
    "precision, recall, f1 = evaluate_classifier(clf, X_train, X_test, y_train, y_test, average='micro')\n",
    "eval_log['knn-euclidean'] = (precision, recall, f1)\n",
    "\n",
    "# kNN classifier with Manhattan distance\n",
    "print('Working... - manhattan knn')\n",
    "clf = KNeighborsClassifier(n_neighbors=num_labels, metric='manhattan')\n",
    "precision, recall, f1 = evaluate_classifier(clf, X_train, X_test, y_train, y_test, average='micro')\n",
    "eval_log['knn-manhattan'] = (precision, recall, f1)"
   ]
  },
  {
   "cell_type": "code",
   "execution_count": null,
   "metadata": {},
   "outputs": [],
   "source": [
    "# Multi-layer perceptron classifier\n",
    "clf = MLPClassifier()\n",
    "precision, recall, f1 = evaluate_classifier(clf, X_train, X_test, y_train, y_test, average='micro')\n",
    "eval_log['mlp'] = (precision, recall, f1)"
   ]
  },
  {
   "cell_type": "code",
   "execution_count": null,
   "metadata": {},
   "outputs": [],
   "source": [
    "eval_log"
   ]
  },
  {
   "cell_type": "markdown",
   "metadata": {},
   "source": [
    "## Kernel-based kNN"
   ]
  },
  {
   "cell_type": "code",
   "execution_count": null,
   "metadata": {},
   "outputs": [],
   "source": [
    "def rbf_kernel_dist(x, y, gamma):\n",
    "    return 1 - np.exp(- gamma * ((x - y) ** 2).sum())\n",
    "\n",
    "def poly_kernel_dist(x, y, gamma, r=0., d=3):\n",
    "    Kxx = (r + gamma * (x ** 2).sum()) ** d\n",
    "    Kyy = (r + gamma * (y ** 2).sum()) ** d\n",
    "    Kxy = (r + gamma * np.dot(x, y)) ** d\n",
    "    return Kxx + Kyy - 2 * Kxy\n",
    "\n",
    "def sigmoid_kernel_dist(x, y, gamma, r=0.):\n",
    "    Kxx = np.tanh(r + gamma * (x ** 2).sum())\n",
    "    Kyy = np.tanh(r + gamma * (y ** 2).sum())\n",
    "    Kxy = np.tanh(r + gamma * np.dot(x, y))\n",
    "    return Kxx + Kyy - 2 * Kxy"
   ]
  },
  {
   "cell_type": "markdown",
   "metadata": {},
   "source": [
    "**RBF Kernel KNN**"
   ]
  },
  {
   "cell_type": "code",
   "execution_count": null,
   "metadata": {},
   "outputs": [],
   "source": [
    "param_grid = {'n_neighbors': [num_labels, 3, 5, 11, 19], \n",
    "              'metric_params': [{'gamma' : 1}, {'gamma' : 1000000/denom}, {'gamma' : 100000/denom}, {'gamma' : 10000/denom}, \n",
    "                                {'gamma' : 1000/denom}, {'gamma' : 100/denom},{'gamma' : 10/denom},{'gamma' : 1/denom}],\n",
    "              'metric': [rbf_kernel_dist]}\n",
    "\n",
    "grid = GridSearchCV(KNeighborsClassifier(), param_grid, refit = True, verbose = 2)\n",
    "  \n",
    "# fitting the model for grid search\n",
    "grid.fit(X_train, y_train)"
   ]
  },
  {
   "cell_type": "code",
   "execution_count": null,
   "metadata": {},
   "outputs": [],
   "source": [
    "print(grid.best_params_)\n",
    "\n",
    "grid_predictions = grid.predict(X_test)\n",
    "  \n",
    "# print classification report\n",
    "print(metrics.classification_report(y_test, grid_predictions))"
   ]
  },
  {
   "cell_type": "code",
   "execution_count": null,
   "metadata": {},
   "outputs": [],
   "source": [
    "# Untuned rbf knn\n",
    "clf = KNeighborsClassifier(n_neighbors=num_labels, metric=rbf_kernel_dist, \n",
    "                           metric_params={'gamma' : 1 / num_features})\n",
    "clf.fit(X_train, y_train)\n",
    "prediction = clf.predict(X_test)\n",
    "print(f\"Classification report for classifier {clf}:\\n\"\n",
    "      f\"{metrics.classification_report(y_test, prediction)}\\n\")"
   ]
  },
  {
   "cell_type": "markdown",
   "metadata": {},
   "source": [
    "**Poly Kernel knn**"
   ]
  },
  {
   "cell_type": "code",
   "execution_count": null,
   "metadata": {},
   "outputs": [],
   "source": [
    "param_grid = {'n_neighbors': [num_labels, 3, 5, 11, 19], \n",
    "              'metric_params': [{'gamma' : 1, }, {'gamma' : 1000000/denom}, {'gamma' : 100000/denom}, {'gamma' : 10000/denom}, \n",
    "                                {'gamma' : 1000/denom}, {'gamma' : 100/denom},{'gamma' : 10/denom},{'gamma' : 1/denom}],\n",
    "              'metric': [poly_kernel_dist]}\n",
    "\n",
    "grid = GridSearchCV(KNeighborsClassifier(), param_grid, refit = True, verbose = 2)\n",
    "  \n",
    "# fitting the model for grid search\n",
    "grid.fit(X_train, y_train)"
   ]
  },
  {
   "cell_type": "code",
   "execution_count": null,
   "metadata": {},
   "outputs": [],
   "source": [
    "print(grid.best_params_)\n",
    "\n",
    "grid_predictions = grid.predict(X_test)\n",
    "  \n",
    "# print classification report\n",
    "print(metrics.classification_report(y_test, grid_predictions))"
   ]
  },
  {
   "cell_type": "code",
   "execution_count": null,
   "metadata": {},
   "outputs": [],
   "source": [
    "# Untuned poly knn\n",
    "clf = KNeighborsClassifier(n_neighbors=num_labels, metric=poly_kernel_dist, \n",
    "                           metric_params={'gamma' : 1 / num_features})\n",
    "clf.fit(X_train, y_train)\n",
    "prediction = clf.predict(X_test)\n",
    "print(f\"Classification report for classifier {clf}:\\n\"\n",
    "      f\"{metrics.classification_report(y_test, prediction)}\\n\")"
   ]
  },
  {
   "cell_type": "markdown",
   "metadata": {},
   "source": [
    "**Sigmoid knn Classifier**"
   ]
  },
  {
   "cell_type": "code",
   "execution_count": null,
   "metadata": {},
   "outputs": [],
   "source": [
    "param_grid = {'n_neighbors': [num_labels, 3, 5, 11, 19], \n",
    "              'metric_params': [{'gamma' : 1, }, {'gamma' : 1000000/denom}, {'gamma' : 100000/denom}, {'gamma' : 10000/denom}, \n",
    "                                {'gamma' : 1000/denom}, {'gamma' : 100/denom},{'gamma' : 10/denom},{'gamma' : 1/denom}],\n",
    "              'metric': [poly_kernel_dist]}\n",
    "\n",
    "grid = GridSearchCV(KNeighborsClassifier(), param_grid, refit = True, verbose = 2)\n",
    "  \n",
    "# fitting the model for grid search\n",
    "grid.fit(X_train, y_train)"
   ]
  },
  {
   "cell_type": "code",
   "execution_count": null,
   "metadata": {},
   "outputs": [],
   "source": [
    "print(grid.best_params_)\n",
    "\n",
    "grid_predictions = grid.predict(X_test)\n",
    "  \n",
    "# print classification report\n",
    "print(metrics.classification_report(y_test, grid_predictions))"
   ]
  },
  {
   "cell_type": "code",
   "execution_count": null,
   "metadata": {},
   "outputs": [],
   "source": [
    "# Untuned sigmoid knn\n",
    "clf = KNeighborsClassifier(n_neighbors=num_labels, metric=sigmoid_kernel_dist, \n",
    "                           metric_params={'gamma' : 1 / num_features})\n",
    "clf.fit(X_train, y_train)\n",
    "prediction = clf.predict(X_test)\n",
    "print(f\"Classification report for classifier {clf}:\\n\"\n",
    "      f\"{metrics.classification_report(y_test, prediction)}\\n\")"
   ]
  }
 ],
 "metadata": {
  "kernelspec": {
   "display_name": "Python 3",
   "language": "python",
   "name": "python3"
  },
  "language_info": {
   "codemirror_mode": {
    "name": "ipython",
    "version": 3
   },
   "file_extension": ".py",
   "mimetype": "text/x-python",
   "name": "python",
   "nbconvert_exporter": "python",
   "pygments_lexer": "ipython3",
   "version": "3.7.1"
  }
 },
 "nbformat": 4,
 "nbformat_minor": 4
}
