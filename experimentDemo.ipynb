{
 "cells": [
  {
   "cell_type": "code",
   "execution_count": 1,
   "metadata": {},
   "outputs": [],
   "source": [
    "import numpy as np\n",
    "import matplotlib.pyplot as plt\n",
    "import pandas as pd\n",
    "from sklearn import svm, metrics\n",
    "from sklearn.neighbors import KNeighborsClassifier\n",
    "from sklearn.neural_network import MLPClassifier\n",
    "from sklearn.model_selection import train_test_split\n",
    "from preprocess import preprocess, load_dataset"
   ]
  },
  {
   "cell_type": "markdown",
   "metadata": {},
   "source": [
    "# Classification of cell types with RNA-seq data"
   ]
  },
  {
   "cell_type": "markdown",
   "metadata": {},
   "source": [
    "## Preparation"
   ]
  },
  {
   "cell_type": "code",
   "execution_count": 2,
   "metadata": {},
   "outputs": [],
   "source": [
    "# Load data and preprocess\n",
    "datadir = 'data/muraro'\n",
    "data = load_dataset(datadir, 'muraro')\n",
    "X, y = preprocess(data)"
   ]
  },
  {
   "cell_type": "code",
   "execution_count": 3,
   "metadata": {},
   "outputs": [],
   "source": [
    "# Train/Test splitting\n",
    "X_train, X_test, y_train, y_test = train_test_split(X, y, test_size=0.15, shuffle=True)"
   ]
  },
  {
   "cell_type": "markdown",
   "metadata": {},
   "source": [
    "## Algorithms"
   ]
  },
  {
   "cell_type": "code",
   "execution_count": 4,
   "metadata": {},
   "outputs": [],
   "source": [
    "def evaluate_classifier(clf, X_train, X_test, y_train, y_test, average='macro'):\n",
    "    clf.fit(X_train, y_train)\n",
    "    prediction = clf.predict(X_test)\n",
    "    precision, recall, f1, support = metrics.precision_recall_fscore_support(y_test, prediction,\n",
    "                                                                         average=average,\n",
    "                                                                         zero_division='warn')\n",
    "    return precision, recall, f1"
   ]
  },
  {
   "cell_type": "code",
   "execution_count": 5,
   "metadata": {},
   "outputs": [],
   "source": [
    "eval_log = {}\n",
    "\n",
    "# SVM classifier with linear kernel\n",
    "clf = svm.SVC(kernel='linear')\n",
    "precision, recall, f1 = evaluate_classifier(clf, X_train, X_test, y_train, y_test, average='micro')\n",
    "eval_log['svm-linear'] = (precision, recall, f1)\n",
    "\n",
    "# SVM classifier with polynomial kernel\n",
    "clf = svm.SVC(kernel='poly', degree=3)\n",
    "precision, recall, f1 = evaluate_classifier(clf, X_train, X_test, y_train, y_test, average='micro')\n",
    "eval_log['svm-poly'] = (precision, recall, f1)\n",
    "\n",
    "# SVM classifier with RBF kernel\n",
    "clf = svm.SVC(kernel='rbf')\n",
    "precision, recall, f1 = evaluate_classifier(clf, X_train, X_test, y_train, y_test, average='micro')\n",
    "eval_log['svm-rbf'] = (precision, recall, f1)\n",
    "\n",
    "# SVM classifier with sigmoid kernel\n",
    "clf = svm.SVC(kernel='sigmoid')\n",
    "precision, recall, f1 = evaluate_classifier(clf, X_train, X_test, y_train, y_test, average='micro')\n",
    "eval_log['svm-sigmoid'] = (precision, recall, f1)"
   ]
  },
  {
   "cell_type": "code",
   "execution_count": 6,
   "metadata": {},
   "outputs": [],
   "source": [
    "num_labels = len(np.unique(y))\n",
    "\n",
    "# kNN classifier with Euclidean distance\n",
    "clf = KNeighborsClassifier(n_neighbors=num_labels, metric='euclidean')\n",
    "precision, recall, f1 = evaluate_classifier(clf, X_train, X_test, y_train, y_test, average='micro')\n",
    "eval_log['knn-euclidean'] = (precision, recall, f1)\n",
    "\n",
    "# kNN classifier with Manhattan distance\n",
    "clf = KNeighborsClassifier(n_neighbors=num_labels, metric='manhattan')\n",
    "precision, recall, f1 = evaluate_classifier(clf, X_train, X_test, y_train, y_test, average='micro')\n",
    "eval_log['knn-manhattan'] = (precision, recall, f1)"
   ]
  },
  {
   "cell_type": "code",
   "execution_count": 7,
   "metadata": {},
   "outputs": [],
   "source": [
    "# Multi-layer perceptron classifier\n",
    "clf = MLPClassifier()\n",
    "precision, recall, f1 = evaluate_classifier(clf, X_train, X_test, y_train, y_test, average='micro')\n",
    "eval_log['mlp'] = (precision, recall, f1)"
   ]
  },
  {
   "cell_type": "code",
   "execution_count": 8,
   "metadata": {},
   "outputs": [
    {
     "data": {
      "text/plain": [
       "{'svm-linear': (0.9874213836477987, 0.9874213836477987, 0.9874213836477987),\n",
       " 'svm-poly': (0.8522012578616353, 0.8522012578616353, 0.8522012578616353),\n",
       " 'svm-rbf': (0.9654088050314465, 0.9654088050314465, 0.9654088050314465),\n",
       " 'svm-sigmoid': (0.949685534591195, 0.949685534591195, 0.949685534591195),\n",
       " 'knn-euclidean': (0.9748427672955975, 0.9748427672955975, 0.9748427672955975),\n",
       " 'knn-manhattan': (0.9748427672955975, 0.9748427672955975, 0.9748427672955975),\n",
       " 'mlp': (0.9779874213836478, 0.9779874213836478, 0.9779874213836478)}"
      ]
     },
     "execution_count": 8,
     "metadata": {},
     "output_type": "execute_result"
    }
   ],
   "source": [
    "eval_log"
   ]
  }
 ],
 "metadata": {
  "kernelspec": {
   "display_name": "Python 3",
   "language": "python",
   "name": "python3"
  },
  "language_info": {
   "codemirror_mode": {
    "name": "ipython",
    "version": 3
   },
   "file_extension": ".py",
   "mimetype": "text/x-python",
   "name": "python",
   "nbconvert_exporter": "python",
   "pygments_lexer": "ipython3",
   "version": "3.8.5"
  }
 },
 "nbformat": 4,
 "nbformat_minor": 4
}
